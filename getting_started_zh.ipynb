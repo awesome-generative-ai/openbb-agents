{
 "cells": [
  {
   "cell_type": "markdown",
   "metadata": {},
   "source": [
    "# Openbb-agents 智能体代理\n",
    "这是一个简短的示例笔记本，用来展示`openbb-agents`的一些特性，并尽可能快地帮助你上手使用。"
   ]
  },
  {
   "cell_type": "markdown",
   "metadata": {},
   "source": [
    "## Set-up\n",
    "We'll be fetching our data provider API keys using OpenBB Platform's backend for this example (it's free to sign up!).\n",
    "\n",
    "You are also free to set-up your [API keys](https://docs.openbb.co/sdk/usage/api-keys) locally, or to rely only on `yfinance`\n",
    "as a provider for data provider (although keep in mind that certain functions\n",
    "will not be available as a result)."
   ]
  },
  {
   "cell_type": "code",
   "execution_count": 1,
   "metadata": {},
   "outputs": [],
   "source": [
    "import os\n",
    "OPENBB_PAT = os.environ.get('OPENBB_PAT')"
   ]
  },
  {
   "cell_type": "markdown",
   "metadata": {},
   "source": [
    "## Basic Querying"
   ]
  },
  {
   "cell_type": "code",
   "execution_count": 2,
   "metadata": {},
   "outputs": [
    {
     "name": "stdout",
     "output_type": "stream",
     "text": [
      "2024-08-27 18:20:46,979 - INFO - openbb_agents.agent - Using all available OpenBB tools with providers: ['yfinance']\n",
      "2024-08-27 18:20:46,981 - INFO - openbb_agents.tools - Building OpenBB tool vector index...\n"
     ]
    }
   ],
   "source": [
    "from openbb_agents.agent import openbb_agent\n",
    "\n",
    "result = openbb_agent(\"What is the current stock price of TSLA?\", openbb_pat=OPENBB_PAT)\n",
    "print(result)"
   ]
  },
  {
   "cell_type": "code",
   "execution_count": 8,
   "metadata": {},
   "outputs": [
    {
     "name": "stdout",
     "output_type": "stream",
     "text": [
      "2024-08-27 17:55:13,124 - ERROR - ai21.http_client.http_client - Calling POST https://api.ai21.com/studio/v1 failed with a non-200 response code: 422 headers: Headers({'date': 'Tue, 27 Aug 2024 09:55:12 GMT', 'content-type': 'application/json', 'content-length': '52', 'connection': 'keep-alive', 'request-id': '4f672f5f-cda4-24ad-79eb-7e8dbe5780c3', 'via': '1.1 google', 'cf-cache-status': 'DYNAMIC', 'report-to': '{\"endpoints\":[{\"url\":\"https:\\\\/\\\\/a.nel.cloudflare.com\\\\/report\\\\/v4?s=vJRSY2b%2FRwbpo6yBlO4AZWECdUoLQy8LFFFPJzqf5fUo5hys%2Bd%2BDA1mUCeGV9OeBHxT0xfmkpUkoXUnyTIvPD00Vb7hubqZNd%2F3TqQEiCeMV1qca5uE8xoM2TRJvSOMN%2F2BwEhuBO3Tk%2BA%3D%3D\"}],\"group\":\"cf-nel\",\"max_age\":604800}', 'nel': '{\"success_fraction\":0,\"report_to\":\"cf-nel\",\"max_age\":604800}', 'strict-transport-security': 'max-age=15552000; includeSubDomains', 'server': 'cloudflare', 'cf-ray': '8b9b2f39c802ba30-SEA'})\n"
     ]
    },
    {
     "ename": "UnprocessableEntity",
     "evalue": "Failed with http status code: 422 (UnprocessableEntity). Details: {\"detail\":\"Each text must be under 2000 characters\"}",
     "output_type": "error",
     "traceback": [
      "\u001b[1;31m---------------------------------------------------------------------------\u001b[0m",
      "\u001b[1;31mUnprocessableEntity\u001b[0m                       Traceback (most recent call last)",
      "Cell \u001b[1;32mIn[8], line 2\u001b[0m\n\u001b[0;32m      1\u001b[0m \u001b[38;5;66;03m# You can turn off verbose output to only receive the answer.\u001b[39;00m\n\u001b[1;32m----> 2\u001b[0m result \u001b[38;5;241m=\u001b[39m \u001b[43mopenbb_agent\u001b[49m\u001b[43m(\u001b[49m\u001b[38;5;124;43m\"\u001b[39;49m\u001b[38;5;124;43mWhat is the current stock price of AAPL?\u001b[39;49m\u001b[38;5;124;43m\"\u001b[39;49m\u001b[43m,\u001b[49m\u001b[43m \u001b[49m\u001b[43mverbose\u001b[49m\u001b[38;5;241;43m=\u001b[39;49m\u001b[38;5;28;43;01mFalse\u001b[39;49;00m\u001b[43m)\u001b[49m\n\u001b[0;32m      3\u001b[0m \u001b[38;5;28mprint\u001b[39m(result)\n",
      "File \u001b[1;32me:\\InvestorAIHub\\openbb-agents\\openbb_agents\\agent.py:70\u001b[0m, in \u001b[0;36mopenbb_agent\u001b[1;34m(query, openbb_tools, openbb_pat, extra_tools, verbose)\u001b[0m\n\u001b[0;32m     66\u001b[0m     \u001b[38;5;28;01mfrom\u001b[39;00m \u001b[38;5;21;01mopenbb\u001b[39;00m \u001b[38;5;28;01mimport\u001b[39;00m obb\n\u001b[0;32m     68\u001b[0m     obb\u001b[38;5;241m.\u001b[39maccount\u001b[38;5;241m.\u001b[39mlogin(pat\u001b[38;5;241m=\u001b[39mopenbb_pat)\n\u001b[1;32m---> 70\u001b[0m tool_vector_index \u001b[38;5;241m=\u001b[39m \u001b[43m_handle_tool_vector_index\u001b[49m\u001b[43m(\u001b[49m\u001b[43mopenbb_tools\u001b[49m\u001b[43m)\u001b[49m\n\u001b[0;32m     71\u001b[0m \u001b[38;5;28;01mif\u001b[39;00m extra_tools:\n\u001b[0;32m     72\u001b[0m     tool_vector_index \u001b[38;5;241m=\u001b[39m append_tools_to_vector_index(\n\u001b[0;32m     73\u001b[0m         vector_store\u001b[38;5;241m=\u001b[39mtool_vector_index,\n\u001b[0;32m     74\u001b[0m         tools\u001b[38;5;241m=\u001b[39mextra_tools,\n\u001b[0;32m     75\u001b[0m     )\n",
      "File \u001b[1;32me:\\InvestorAIHub\\openbb-agents\\openbb_agents\\agent.py:320\u001b[0m, in \u001b[0;36m_handle_tool_vector_index\u001b[1;34m(openbb_tools)\u001b[0m\n\u001b[0;32m    315\u001b[0m \u001b[38;5;28;01mif\u001b[39;00m \u001b[38;5;129;01mnot\u001b[39;00m openbb_tools:\n\u001b[0;32m    316\u001b[0m     logger\u001b[38;5;241m.\u001b[39minfo(\n\u001b[0;32m    317\u001b[0m         \u001b[38;5;124m\"\u001b[39m\u001b[38;5;124mUsing all available OpenBB tools with providers: \u001b[39m\u001b[38;5;132;01m%s\u001b[39;00m\u001b[38;5;124m\"\u001b[39m,\n\u001b[0;32m    318\u001b[0m         get_valid_list_of_providers(),\n\u001b[0;32m    319\u001b[0m     )\n\u001b[1;32m--> 320\u001b[0m     tool_vector_index \u001b[38;5;241m=\u001b[39m \u001b[43mbuild_openbb_tool_vector_index\u001b[49m\u001b[43m(\u001b[49m\u001b[43m)\u001b[49m\n\u001b[0;32m    321\u001b[0m \u001b[38;5;28;01melse\u001b[39;00m:\n\u001b[0;32m    322\u001b[0m     logger\u001b[38;5;241m.\u001b[39minfo(\u001b[38;5;124m\"\u001b[39m\u001b[38;5;124mUsing specified OpenBB tools: \u001b[39m\u001b[38;5;132;01m%s\u001b[39;00m\u001b[38;5;124m\"\u001b[39m, openbb_tools)\n",
      "File \u001b[1;32me:\\InvestorAIHub\\openbb-agents\\openbb_agents\\tools.py:131\u001b[0m, in \u001b[0;36mbuild_openbb_tool_vector_index\u001b[1;34m()\u001b[0m\n\u001b[0;32m    129\u001b[0m \u001b[38;5;28;01mdef\u001b[39;00m \u001b[38;5;21mbuild_openbb_tool_vector_index\u001b[39m() \u001b[38;5;241m-\u001b[39m\u001b[38;5;241m>\u001b[39m VectorStore:\n\u001b[0;32m    130\u001b[0m     logger\u001b[38;5;241m.\u001b[39minfo(\u001b[38;5;124m\"\u001b[39m\u001b[38;5;124mBuilding OpenBB tool vector index...\u001b[39m\u001b[38;5;124m\"\u001b[39m)\n\u001b[1;32m--> 131\u001b[0m     \u001b[38;5;28;01mreturn\u001b[39;00m \u001b[43mbuild_vector_index_from_openbb_function_descriptions\u001b[49m\u001b[43m(\u001b[49m\n\u001b[0;32m    132\u001b[0m \u001b[43m        \u001b[49m\u001b[43mget_valid_openbb_function_descriptions\u001b[49m\u001b[43m(\u001b[49m\u001b[43m)\u001b[49m\n\u001b[0;32m    133\u001b[0m \u001b[43m    \u001b[49m\u001b[43m)\u001b[49m\n",
      "File \u001b[1;32me:\\InvestorAIHub\\openbb-agents\\openbb_agents\\tools.py:125\u001b[0m, in \u001b[0;36mbuild_vector_index_from_openbb_function_descriptions\u001b[1;34m(openbb_function_descriptions)\u001b[0m\n\u001b[0;32m    115\u001b[0m \u001b[38;5;28;01mfor\u001b[39;00m function_description \u001b[38;5;129;01min\u001b[39;00m openbb_function_descriptions:\n\u001b[0;32m    116\u001b[0m     documents\u001b[38;5;241m.\u001b[39mappend(\n\u001b[0;32m    117\u001b[0m         Document(\n\u001b[0;32m    118\u001b[0m             page_content\u001b[38;5;241m=\u001b[39mmake_vector_index_description(function_description),\n\u001b[1;32m   (...)\u001b[0m\n\u001b[0;32m    123\u001b[0m         )\n\u001b[0;32m    124\u001b[0m     )\n\u001b[1;32m--> 125\u001b[0m vector_store \u001b[38;5;241m=\u001b[39m \u001b[43mFAISS\u001b[49m\u001b[38;5;241;43m.\u001b[39;49m\u001b[43mfrom_documents\u001b[49m\u001b[43m(\u001b[49m\u001b[43mdocuments\u001b[49m\u001b[43m,\u001b[49m\u001b[43m \u001b[49m\u001b[43membedding\u001b[49m\u001b[38;5;241;43m=\u001b[39;49m\u001b[43mAI21Embeddings\u001b[49m\u001b[43m(\u001b[49m\u001b[43m)\u001b[49m\u001b[43m)\u001b[49m\n\u001b[0;32m    126\u001b[0m \u001b[38;5;28;01mreturn\u001b[39;00m vector_store\n",
      "File \u001b[1;32me:\\InvestorAIHub\\openbb-agents\\.venv\\Lib\\site-packages\\langchain_core\\vectorstores\\base.py:833\u001b[0m, in \u001b[0;36mVectorStore.from_documents\u001b[1;34m(cls, documents, embedding, **kwargs)\u001b[0m\n\u001b[0;32m    831\u001b[0m texts \u001b[38;5;241m=\u001b[39m [d\u001b[38;5;241m.\u001b[39mpage_content \u001b[38;5;28;01mfor\u001b[39;00m d \u001b[38;5;129;01min\u001b[39;00m documents]\n\u001b[0;32m    832\u001b[0m metadatas \u001b[38;5;241m=\u001b[39m [d\u001b[38;5;241m.\u001b[39mmetadata \u001b[38;5;28;01mfor\u001b[39;00m d \u001b[38;5;129;01min\u001b[39;00m documents]\n\u001b[1;32m--> 833\u001b[0m \u001b[38;5;28;01mreturn\u001b[39;00m \u001b[38;5;28;43mcls\u001b[39;49m\u001b[38;5;241;43m.\u001b[39;49m\u001b[43mfrom_texts\u001b[49m\u001b[43m(\u001b[49m\u001b[43mtexts\u001b[49m\u001b[43m,\u001b[49m\u001b[43m \u001b[49m\u001b[43membedding\u001b[49m\u001b[43m,\u001b[49m\u001b[43m \u001b[49m\u001b[43mmetadatas\u001b[49m\u001b[38;5;241;43m=\u001b[39;49m\u001b[43mmetadatas\u001b[49m\u001b[43m,\u001b[49m\u001b[43m \u001b[49m\u001b[38;5;241;43m*\u001b[39;49m\u001b[38;5;241;43m*\u001b[39;49m\u001b[43mkwargs\u001b[49m\u001b[43m)\u001b[49m\n",
      "File \u001b[1;32me:\\InvestorAIHub\\openbb-agents\\.venv\\Lib\\site-packages\\langchain_community\\vectorstores\\faiss.py:1039\u001b[0m, in \u001b[0;36mFAISS.from_texts\u001b[1;34m(cls, texts, embedding, metadatas, ids, **kwargs)\u001b[0m\n\u001b[0;32m   1012\u001b[0m \u001b[38;5;129m@classmethod\u001b[39m\n\u001b[0;32m   1013\u001b[0m \u001b[38;5;28;01mdef\u001b[39;00m \u001b[38;5;21mfrom_texts\u001b[39m(\n\u001b[0;32m   1014\u001b[0m     \u001b[38;5;28mcls\u001b[39m,\n\u001b[1;32m   (...)\u001b[0m\n\u001b[0;32m   1019\u001b[0m     \u001b[38;5;241m*\u001b[39m\u001b[38;5;241m*\u001b[39mkwargs: Any,\n\u001b[0;32m   1020\u001b[0m ) \u001b[38;5;241m-\u001b[39m\u001b[38;5;241m>\u001b[39m FAISS:\n\u001b[0;32m   1021\u001b[0m \u001b[38;5;250m    \u001b[39m\u001b[38;5;124;03m\"\"\"Construct FAISS wrapper from raw documents.\u001b[39;00m\n\u001b[0;32m   1022\u001b[0m \n\u001b[0;32m   1023\u001b[0m \u001b[38;5;124;03m    This is a user friendly interface that:\u001b[39;00m\n\u001b[1;32m   (...)\u001b[0m\n\u001b[0;32m   1037\u001b[0m \u001b[38;5;124;03m            faiss = FAISS.from_texts(texts, embeddings)\u001b[39;00m\n\u001b[0;32m   1038\u001b[0m \u001b[38;5;124;03m    \"\"\"\u001b[39;00m\n\u001b[1;32m-> 1039\u001b[0m     embeddings \u001b[38;5;241m=\u001b[39m \u001b[43membedding\u001b[49m\u001b[38;5;241;43m.\u001b[39;49m\u001b[43membed_documents\u001b[49m\u001b[43m(\u001b[49m\u001b[43mtexts\u001b[49m\u001b[43m)\u001b[49m\n\u001b[0;32m   1040\u001b[0m     \u001b[38;5;28;01mreturn\u001b[39;00m \u001b[38;5;28mcls\u001b[39m\u001b[38;5;241m.\u001b[39m__from(\n\u001b[0;32m   1041\u001b[0m         texts,\n\u001b[0;32m   1042\u001b[0m         embeddings,\n\u001b[1;32m   (...)\u001b[0m\n\u001b[0;32m   1046\u001b[0m         \u001b[38;5;241m*\u001b[39m\u001b[38;5;241m*\u001b[39mkwargs,\n\u001b[0;32m   1047\u001b[0m     )\n",
      "File \u001b[1;32me:\\InvestorAIHub\\openbb-agents\\.venv\\Lib\\site-packages\\langchain_ai21\\embeddings.py:43\u001b[0m, in \u001b[0;36mAI21Embeddings.embed_documents\u001b[1;34m(self, texts, batch_size, **kwargs)\u001b[0m\n\u001b[0;32m     35\u001b[0m \u001b[38;5;28;01mdef\u001b[39;00m \u001b[38;5;21membed_documents\u001b[39m(\n\u001b[0;32m     36\u001b[0m     \u001b[38;5;28mself\u001b[39m,\n\u001b[0;32m     37\u001b[0m     texts: List[\u001b[38;5;28mstr\u001b[39m],\n\u001b[1;32m   (...)\u001b[0m\n\u001b[0;32m     40\u001b[0m     \u001b[38;5;241m*\u001b[39m\u001b[38;5;241m*\u001b[39mkwargs: Any,\n\u001b[0;32m     41\u001b[0m ) \u001b[38;5;241m-\u001b[39m\u001b[38;5;241m>\u001b[39m List[List[\u001b[38;5;28mfloat\u001b[39m]]:\n\u001b[0;32m     42\u001b[0m \u001b[38;5;250m    \u001b[39m\u001b[38;5;124;03m\"\"\"Embed search docs.\"\"\"\u001b[39;00m\n\u001b[1;32m---> 43\u001b[0m     \u001b[38;5;28;01mreturn\u001b[39;00m \u001b[38;5;28;43mself\u001b[39;49m\u001b[38;5;241;43m.\u001b[39;49m\u001b[43m_send_embeddings\u001b[49m\u001b[43m(\u001b[49m\n\u001b[0;32m     44\u001b[0m \u001b[43m        \u001b[49m\u001b[43mtexts\u001b[49m\u001b[38;5;241;43m=\u001b[39;49m\u001b[43mtexts\u001b[49m\u001b[43m,\u001b[49m\n\u001b[0;32m     45\u001b[0m \u001b[43m        \u001b[49m\u001b[43mbatch_size\u001b[49m\u001b[38;5;241;43m=\u001b[39;49m\u001b[43mbatch_size\u001b[49m\u001b[43m \u001b[49m\u001b[38;5;129;43;01mor\u001b[39;49;00m\u001b[43m \u001b[49m\u001b[38;5;28;43mself\u001b[39;49m\u001b[38;5;241;43m.\u001b[39;49m\u001b[43mbatch_size\u001b[49m\u001b[43m,\u001b[49m\n\u001b[0;32m     46\u001b[0m \u001b[43m        \u001b[49m\u001b[43membed_type\u001b[49m\u001b[38;5;241;43m=\u001b[39;49m\u001b[43mEmbedType\u001b[49m\u001b[38;5;241;43m.\u001b[39;49m\u001b[43mSEGMENT\u001b[49m\u001b[43m,\u001b[49m\n\u001b[0;32m     47\u001b[0m \u001b[43m        \u001b[49m\u001b[38;5;241;43m*\u001b[39;49m\u001b[38;5;241;43m*\u001b[39;49m\u001b[43mkwargs\u001b[49m\u001b[43m,\u001b[49m\n\u001b[0;32m     48\u001b[0m \u001b[43m    \u001b[49m\u001b[43m)\u001b[49m\n",
      "File \u001b[1;32me:\\InvestorAIHub\\openbb-agents\\.venv\\Lib\\site-packages\\langchain_ai21\\embeddings.py:69\u001b[0m, in \u001b[0;36mAI21Embeddings._send_embeddings\u001b[1;34m(self, texts, batch_size, embed_type, **kwargs)\u001b[0m\n\u001b[0;32m     65\u001b[0m \u001b[38;5;28;01mdef\u001b[39;00m \u001b[38;5;21m_send_embeddings\u001b[39m(\n\u001b[0;32m     66\u001b[0m     \u001b[38;5;28mself\u001b[39m, texts: List[\u001b[38;5;28mstr\u001b[39m], \u001b[38;5;241m*\u001b[39m, batch_size: \u001b[38;5;28mint\u001b[39m, embed_type: EmbedType, \u001b[38;5;241m*\u001b[39m\u001b[38;5;241m*\u001b[39mkwargs: Any\n\u001b[0;32m     67\u001b[0m ) \u001b[38;5;241m-\u001b[39m\u001b[38;5;241m>\u001b[39m List[List[\u001b[38;5;28mfloat\u001b[39m]]:\n\u001b[0;32m     68\u001b[0m     chunks \u001b[38;5;241m=\u001b[39m _split_texts_into_batches(texts, batch_size)\n\u001b[1;32m---> 69\u001b[0m     responses \u001b[38;5;241m=\u001b[39m \u001b[43m[\u001b[49m\n\u001b[0;32m     70\u001b[0m \u001b[43m        \u001b[49m\u001b[38;5;28;43mself\u001b[39;49m\u001b[38;5;241;43m.\u001b[39;49m\u001b[43mclient\u001b[49m\u001b[38;5;241;43m.\u001b[39;49m\u001b[43membed\u001b[49m\u001b[38;5;241;43m.\u001b[39;49m\u001b[43mcreate\u001b[49m\u001b[43m(\u001b[49m\n\u001b[0;32m     71\u001b[0m \u001b[43m            \u001b[49m\u001b[43mtexts\u001b[49m\u001b[38;5;241;43m=\u001b[39;49m\u001b[43mchunk\u001b[49m\u001b[43m,\u001b[49m\n\u001b[0;32m     72\u001b[0m \u001b[43m            \u001b[49m\u001b[38;5;28;43mtype\u001b[39;49m\u001b[38;5;241;43m=\u001b[39;49m\u001b[43membed_type\u001b[49m\u001b[43m,\u001b[49m\n\u001b[0;32m     73\u001b[0m \u001b[43m            \u001b[49m\u001b[38;5;241;43m*\u001b[39;49m\u001b[38;5;241;43m*\u001b[39;49m\u001b[43mkwargs\u001b[49m\u001b[43m,\u001b[49m\n\u001b[0;32m     74\u001b[0m \u001b[43m        \u001b[49m\u001b[43m)\u001b[49m\n\u001b[0;32m     75\u001b[0m \u001b[43m        \u001b[49m\u001b[38;5;28;43;01mfor\u001b[39;49;00m\u001b[43m \u001b[49m\u001b[43mchunk\u001b[49m\u001b[43m \u001b[49m\u001b[38;5;129;43;01min\u001b[39;49;00m\u001b[43m \u001b[49m\u001b[43mchunks\u001b[49m\n\u001b[0;32m     76\u001b[0m \u001b[43m    \u001b[49m\u001b[43m]\u001b[49m\n\u001b[0;32m     78\u001b[0m     \u001b[38;5;28;01mreturn\u001b[39;00m [\n\u001b[0;32m     79\u001b[0m         result\u001b[38;5;241m.\u001b[39membedding \u001b[38;5;28;01mfor\u001b[39;00m response \u001b[38;5;129;01min\u001b[39;00m responses \u001b[38;5;28;01mfor\u001b[39;00m result \u001b[38;5;129;01min\u001b[39;00m response\u001b[38;5;241m.\u001b[39mresults\n\u001b[0;32m     80\u001b[0m     ]\n",
      "File \u001b[1;32me:\\InvestorAIHub\\openbb-agents\\.venv\\Lib\\site-packages\\langchain_ai21\\embeddings.py:70\u001b[0m, in \u001b[0;36m<listcomp>\u001b[1;34m(.0)\u001b[0m\n\u001b[0;32m     65\u001b[0m \u001b[38;5;28;01mdef\u001b[39;00m \u001b[38;5;21m_send_embeddings\u001b[39m(\n\u001b[0;32m     66\u001b[0m     \u001b[38;5;28mself\u001b[39m, texts: List[\u001b[38;5;28mstr\u001b[39m], \u001b[38;5;241m*\u001b[39m, batch_size: \u001b[38;5;28mint\u001b[39m, embed_type: EmbedType, \u001b[38;5;241m*\u001b[39m\u001b[38;5;241m*\u001b[39mkwargs: Any\n\u001b[0;32m     67\u001b[0m ) \u001b[38;5;241m-\u001b[39m\u001b[38;5;241m>\u001b[39m List[List[\u001b[38;5;28mfloat\u001b[39m]]:\n\u001b[0;32m     68\u001b[0m     chunks \u001b[38;5;241m=\u001b[39m _split_texts_into_batches(texts, batch_size)\n\u001b[0;32m     69\u001b[0m     responses \u001b[38;5;241m=\u001b[39m [\n\u001b[1;32m---> 70\u001b[0m         \u001b[38;5;28;43mself\u001b[39;49m\u001b[38;5;241;43m.\u001b[39;49m\u001b[43mclient\u001b[49m\u001b[38;5;241;43m.\u001b[39;49m\u001b[43membed\u001b[49m\u001b[38;5;241;43m.\u001b[39;49m\u001b[43mcreate\u001b[49m\u001b[43m(\u001b[49m\n\u001b[0;32m     71\u001b[0m \u001b[43m            \u001b[49m\u001b[43mtexts\u001b[49m\u001b[38;5;241;43m=\u001b[39;49m\u001b[43mchunk\u001b[49m\u001b[43m,\u001b[49m\n\u001b[0;32m     72\u001b[0m \u001b[43m            \u001b[49m\u001b[38;5;28;43mtype\u001b[39;49m\u001b[38;5;241;43m=\u001b[39;49m\u001b[43membed_type\u001b[49m\u001b[43m,\u001b[49m\n\u001b[0;32m     73\u001b[0m \u001b[43m            \u001b[49m\u001b[38;5;241;43m*\u001b[39;49m\u001b[38;5;241;43m*\u001b[39;49m\u001b[43mkwargs\u001b[49m\u001b[43m,\u001b[49m\n\u001b[0;32m     74\u001b[0m \u001b[43m        \u001b[49m\u001b[43m)\u001b[49m\n\u001b[0;32m     75\u001b[0m         \u001b[38;5;28;01mfor\u001b[39;00m chunk \u001b[38;5;129;01min\u001b[39;00m chunks\n\u001b[0;32m     76\u001b[0m     ]\n\u001b[0;32m     78\u001b[0m     \u001b[38;5;28;01mreturn\u001b[39;00m [\n\u001b[0;32m     79\u001b[0m         result\u001b[38;5;241m.\u001b[39membedding \u001b[38;5;28;01mfor\u001b[39;00m response \u001b[38;5;129;01min\u001b[39;00m responses \u001b[38;5;28;01mfor\u001b[39;00m result \u001b[38;5;129;01min\u001b[39;00m response\u001b[38;5;241m.\u001b[39mresults\n\u001b[0;32m     80\u001b[0m     ]\n",
      "File \u001b[1;32me:\\InvestorAIHub\\openbb-agents\\.venv\\Lib\\site-packages\\ai21\\clients\\studio\\resources\\studio_embed.py:12\u001b[0m, in \u001b[0;36mStudioEmbed.create\u001b[1;34m(self, texts, type, **kwargs)\u001b[0m\n\u001b[0;32m      9\u001b[0m \u001b[38;5;28;01mdef\u001b[39;00m \u001b[38;5;21mcreate\u001b[39m(\u001b[38;5;28mself\u001b[39m, texts: List[\u001b[38;5;28mstr\u001b[39m], \u001b[38;5;28mtype\u001b[39m: Optional[EmbedType] \u001b[38;5;241m=\u001b[39m \u001b[38;5;28;01mNone\u001b[39;00m, \u001b[38;5;241m*\u001b[39m\u001b[38;5;241m*\u001b[39mkwargs) \u001b[38;5;241m-\u001b[39m\u001b[38;5;241m>\u001b[39m EmbedResponse:\n\u001b[0;32m     10\u001b[0m     body \u001b[38;5;241m=\u001b[39m \u001b[38;5;28mself\u001b[39m\u001b[38;5;241m.\u001b[39m_create_body(texts\u001b[38;5;241m=\u001b[39mtexts, \u001b[38;5;28mtype\u001b[39m\u001b[38;5;241m=\u001b[39m\u001b[38;5;28mtype\u001b[39m, \u001b[38;5;241m*\u001b[39m\u001b[38;5;241m*\u001b[39mkwargs)\n\u001b[1;32m---> 12\u001b[0m     \u001b[38;5;28;01mreturn\u001b[39;00m \u001b[38;5;28;43mself\u001b[39;49m\u001b[38;5;241;43m.\u001b[39;49m\u001b[43m_post\u001b[49m\u001b[43m(\u001b[49m\u001b[43mpath\u001b[49m\u001b[38;5;241;43m=\u001b[39;49m\u001b[38;5;124;43mf\u001b[39;49m\u001b[38;5;124;43m\"\u001b[39;49m\u001b[38;5;124;43m/\u001b[39;49m\u001b[38;5;132;43;01m{\u001b[39;49;00m\u001b[38;5;28;43mself\u001b[39;49m\u001b[38;5;241;43m.\u001b[39;49m\u001b[43m_module_name\u001b[49m\u001b[38;5;132;43;01m}\u001b[39;49;00m\u001b[38;5;124;43m\"\u001b[39;49m\u001b[43m,\u001b[49m\u001b[43m \u001b[49m\u001b[43mbody\u001b[49m\u001b[38;5;241;43m=\u001b[39;49m\u001b[43mbody\u001b[49m\u001b[43m,\u001b[49m\u001b[43m \u001b[49m\u001b[43mresponse_cls\u001b[49m\u001b[38;5;241;43m=\u001b[39;49m\u001b[43mEmbedResponse\u001b[49m\u001b[43m)\u001b[49m\n",
      "File \u001b[1;32me:\\InvestorAIHub\\openbb-agents\\.venv\\Lib\\site-packages\\ai21\\clients\\studio\\resources\\studio_resource.py:60\u001b[0m, in \u001b[0;36mStudioResource._post\u001b[1;34m(self, path, body, params, response_cls, stream_cls, stream, files)\u001b[0m\n\u001b[0;32m     50\u001b[0m \u001b[38;5;28;01mdef\u001b[39;00m \u001b[38;5;21m_post\u001b[39m(\n\u001b[0;32m     51\u001b[0m     \u001b[38;5;28mself\u001b[39m,\n\u001b[0;32m     52\u001b[0m     path: \u001b[38;5;28mstr\u001b[39m,\n\u001b[1;32m   (...)\u001b[0m\n\u001b[0;32m     58\u001b[0m     files: Optional[Dict[\u001b[38;5;28mstr\u001b[39m, BinaryIO]] \u001b[38;5;241m=\u001b[39m \u001b[38;5;28;01mNone\u001b[39;00m,\n\u001b[0;32m     59\u001b[0m ) \u001b[38;5;241m-\u001b[39m\u001b[38;5;241m>\u001b[39m ResponseT \u001b[38;5;241m|\u001b[39m StreamT:\n\u001b[1;32m---> 60\u001b[0m     response \u001b[38;5;241m=\u001b[39m \u001b[38;5;28;43mself\u001b[39;49m\u001b[38;5;241;43m.\u001b[39;49m\u001b[43m_client\u001b[49m\u001b[38;5;241;43m.\u001b[39;49m\u001b[43mexecute_http_request\u001b[49m\u001b[43m(\u001b[49m\n\u001b[0;32m     61\u001b[0m \u001b[43m        \u001b[49m\u001b[43mmethod\u001b[49m\u001b[38;5;241;43m=\u001b[39;49m\u001b[38;5;124;43m\"\u001b[39;49m\u001b[38;5;124;43mPOST\u001b[39;49m\u001b[38;5;124;43m\"\u001b[39;49m\u001b[43m,\u001b[49m\n\u001b[0;32m     62\u001b[0m \u001b[43m        \u001b[49m\u001b[43mpath\u001b[49m\u001b[38;5;241;43m=\u001b[39;49m\u001b[43mpath\u001b[49m\u001b[43m,\u001b[49m\n\u001b[0;32m     63\u001b[0m \u001b[43m        \u001b[49m\u001b[43mstream\u001b[49m\u001b[38;5;241;43m=\u001b[39;49m\u001b[43mstream\u001b[49m\u001b[43m,\u001b[49m\n\u001b[0;32m     64\u001b[0m \u001b[43m        \u001b[49m\u001b[43mbody\u001b[49m\u001b[38;5;241;43m=\u001b[39;49m\u001b[43mbody\u001b[49m\u001b[43m \u001b[49m\u001b[38;5;129;43;01mor\u001b[39;49;00m\u001b[43m \u001b[49m\u001b[43m{\u001b[49m\u001b[43m}\u001b[49m\u001b[43m,\u001b[49m\n\u001b[0;32m     65\u001b[0m \u001b[43m        \u001b[49m\u001b[43mparams\u001b[49m\u001b[38;5;241;43m=\u001b[39;49m\u001b[43mparams\u001b[49m\u001b[43m \u001b[49m\u001b[38;5;129;43;01mor\u001b[39;49;00m\u001b[43m \u001b[49m\u001b[43m{\u001b[49m\u001b[43m}\u001b[49m\u001b[43m,\u001b[49m\n\u001b[0;32m     66\u001b[0m \u001b[43m        \u001b[49m\u001b[43mfiles\u001b[49m\u001b[38;5;241;43m=\u001b[39;49m\u001b[43mfiles\u001b[49m\u001b[43m,\u001b[49m\n\u001b[0;32m     67\u001b[0m \u001b[43m    \u001b[49m\u001b[43m)\u001b[49m\n\u001b[0;32m     69\u001b[0m     \u001b[38;5;28;01mreturn\u001b[39;00m _cast_response(\n\u001b[0;32m     70\u001b[0m         stream\u001b[38;5;241m=\u001b[39mstream,\n\u001b[0;32m     71\u001b[0m         response\u001b[38;5;241m=\u001b[39mresponse,\n\u001b[1;32m   (...)\u001b[0m\n\u001b[0;32m     74\u001b[0m         streaming_decoder\u001b[38;5;241m=\u001b[39m\u001b[38;5;28mself\u001b[39m\u001b[38;5;241m.\u001b[39m_client\u001b[38;5;241m.\u001b[39m_get_streaming_decoder(),\n\u001b[0;32m     75\u001b[0m     )\n",
      "File \u001b[1;32me:\\InvestorAIHub\\openbb-agents\\.venv\\Lib\\site-packages\\ai21\\http_client\\http_client.py:110\u001b[0m, in \u001b[0;36mAI21HTTPClient.execute_http_request\u001b[1;34m(self, method, path, params, body, stream, files, extra_headers)\u001b[0m\n\u001b[0;32m    108\u001b[0m         handle_non_success_response(response\u001b[38;5;241m.\u001b[39mstatus_code, details)\n\u001b[0;32m    109\u001b[0m     \u001b[38;5;28;01melse\u001b[39;00m:\n\u001b[1;32m--> 110\u001b[0m         \u001b[43mhandle_non_success_response\u001b[49m\u001b[43m(\u001b[49m\u001b[43mresponse\u001b[49m\u001b[38;5;241;43m.\u001b[39;49m\u001b[43mstatus_code\u001b[49m\u001b[43m,\u001b[49m\u001b[43m \u001b[49m\u001b[43mresponse\u001b[49m\u001b[38;5;241;43m.\u001b[39;49m\u001b[43mtext\u001b[49m\u001b[43m)\u001b[49m\n\u001b[0;32m    112\u001b[0m \u001b[38;5;28;01mreturn\u001b[39;00m response\n",
      "File \u001b[1;32me:\\InvestorAIHub\\openbb-agents\\.venv\\Lib\\site-packages\\ai21\\http_client\\base_http_client.py:42\u001b[0m, in \u001b[0;36mhandle_non_success_response\u001b[1;34m(status_code, response_text)\u001b[0m\n\u001b[0;32m     40\u001b[0m     \u001b[38;5;28;01mraise\u001b[39;00m Unauthorized(details\u001b[38;5;241m=\u001b[39mresponse_text)\n\u001b[0;32m     41\u001b[0m \u001b[38;5;28;01mif\u001b[39;00m status_code \u001b[38;5;241m==\u001b[39m \u001b[38;5;241m422\u001b[39m:\n\u001b[1;32m---> 42\u001b[0m     \u001b[38;5;28;01mraise\u001b[39;00m UnprocessableEntity(details\u001b[38;5;241m=\u001b[39mresponse_text)\n\u001b[0;32m     43\u001b[0m \u001b[38;5;28;01mif\u001b[39;00m status_code \u001b[38;5;241m==\u001b[39m \u001b[38;5;241m429\u001b[39m:\n\u001b[0;32m     44\u001b[0m     \u001b[38;5;28;01mraise\u001b[39;00m TooManyRequestsError(details\u001b[38;5;241m=\u001b[39mresponse_text)\n",
      "\u001b[1;31mUnprocessableEntity\u001b[0m: Failed with http status code: 422 (UnprocessableEntity). Details: {\"detail\":\"Each text must be under 2000 characters\"}"
     ]
    }
   ],
   "source": [
    "# You can turn off verbose output to only receive the answer.\n",
    "result = openbb_agent(\"What is the current stock price of AAPL?\", verbose=False)\n",
    "print(result)"
   ]
  },
  {
   "cell_type": "markdown",
   "metadata": {},
   "source": [
    "## Use only specific OpenBB Platform tools\n",
    "You don't have to rely on the entire suite of OpenBB tools. In certain\n",
    "use-cases, it makes sense to limit the agent to only a small subset of the\n",
    "tools."
   ]
  },
  {
   "cell_type": "code",
   "execution_count": 9,
   "metadata": {},
   "outputs": [
    {
     "ename": "OpenBBError",
     "evalue": "\n[Error] -> Results not found.",
     "output_type": "error",
     "traceback": [
      "\u001b[1;31m---------------------------------------------------------------------------\u001b[0m",
      "\u001b[1;31mOpenBBError\u001b[0m                               Traceback (most recent call last)",
      "Cell \u001b[1;32mIn[9], line 3\u001b[0m\n\u001b[0;32m      1\u001b[0m \u001b[38;5;66;03m# For example, if we only wanted our agent to use the `.equity.fundamental.income` tool:\u001b[39;00m\n\u001b[0;32m      2\u001b[0m \u001b[38;5;28;01mfrom\u001b[39;00m \u001b[38;5;21;01mopenbb\u001b[39;00m \u001b[38;5;28;01mimport\u001b[39;00m obb\n\u001b[1;32m----> 3\u001b[0m \u001b[43mobb\u001b[49m\u001b[38;5;241;43m.\u001b[39;49m\u001b[43mequity\u001b[49m\u001b[38;5;241;43m.\u001b[39;49m\u001b[43mfundamental\u001b[49m\u001b[38;5;241;43m.\u001b[39;49m\u001b[43mincome\u001b[49m\u001b[43m(\u001b[49m\u001b[38;5;124;43m\"\u001b[39;49m\u001b[38;5;124;43mMSFT\u001b[39;49m\u001b[38;5;124;43m\"\u001b[39;49m\u001b[43m)\u001b[49m\u001b[38;5;241m.\u001b[39mto_df()\n",
      "File \u001b[1;32me:\\InvestorAIHub\\openbb-agents\\.venv\\Lib\\site-packages\\openbb_core\\app\\static\\utils\\decorators.py:89\u001b[0m, in \u001b[0;36mexception_handler.<locals>.wrapper\u001b[1;34m(*f_args, **f_kwargs)\u001b[0m\n\u001b[0;32m     85\u001b[0m     \u001b[38;5;28;01mraise\u001b[39;00m OpenBBError(\u001b[38;5;124mf\u001b[39m\u001b[38;5;124m\"\u001b[39m\u001b[38;5;130;01m\\n\u001b[39;00m\u001b[38;5;124m[Error] -> \u001b[39m\u001b[38;5;132;01m{\u001b[39;00merror_str\u001b[38;5;132;01m}\u001b[39;00m\u001b[38;5;124m\"\u001b[39m)\u001b[38;5;241m.\u001b[39mwith_traceback(\n\u001b[0;32m     86\u001b[0m         tb\n\u001b[0;32m     87\u001b[0m     ) \u001b[38;5;28;01mfrom\u001b[39;00m \u001b[38;5;28;01mNone\u001b[39;00m\n\u001b[0;32m     88\u001b[0m \u001b[38;5;28;01mif\u001b[39;00m \u001b[38;5;28misinstance\u001b[39m(e, OpenBBError):\n\u001b[1;32m---> 89\u001b[0m     \u001b[38;5;28;01mraise\u001b[39;00m OpenBBError(\u001b[38;5;124mf\u001b[39m\u001b[38;5;124m\"\u001b[39m\u001b[38;5;130;01m\\n\u001b[39;00m\u001b[38;5;124m[Error] -> \u001b[39m\u001b[38;5;132;01m{\u001b[39;00m\u001b[38;5;28mstr\u001b[39m(e)\u001b[38;5;132;01m}\u001b[39;00m\u001b[38;5;124m\"\u001b[39m)\u001b[38;5;241m.\u001b[39mwith_traceback(tb) \u001b[38;5;28;01mfrom\u001b[39;00m \u001b[38;5;28;01mNone\u001b[39;00m\n\u001b[0;32m     90\u001b[0m \u001b[38;5;28;01mraise\u001b[39;00m OpenBBError(\u001b[38;5;124m\"\u001b[39m\u001b[38;5;130;01m\\n\u001b[39;00m\u001b[38;5;124m[Error] -> Unexpected error.\u001b[39m\u001b[38;5;124m\"\u001b[39m)\u001b[38;5;241m.\u001b[39mwith_traceback(\n\u001b[0;32m     91\u001b[0m     tb\n\u001b[0;32m     92\u001b[0m ) \u001b[38;5;28;01mfrom\u001b[39;00m \u001b[38;5;28;01mNone\u001b[39;00m\n",
      "File \u001b[1;32me:\\InvestorAIHub\\openbb-agents\\.venv\\Lib\\site-packages\\openbb_core\\app\\model\\obbject.py:174\u001b[0m, in \u001b[0;36mOBBject.to_dataframe\u001b[1;34m(self, index, sort_by, ascending)\u001b[0m\n\u001b[0;32m    169\u001b[0m     \u001b[38;5;28;01mreturn\u001b[39;00m \u001b[38;5;28misinstance\u001b[39m(items, \u001b[38;5;28mlist\u001b[39m) \u001b[38;5;129;01mand\u001b[39;00m \u001b[38;5;28mall\u001b[39m(\n\u001b[0;32m    170\u001b[0m         \u001b[38;5;28misinstance\u001b[39m(item, BaseModel) \u001b[38;5;28;01mfor\u001b[39;00m item \u001b[38;5;129;01min\u001b[39;00m items\n\u001b[0;32m    171\u001b[0m     )\n\u001b[0;32m    173\u001b[0m \u001b[38;5;28;01mif\u001b[39;00m \u001b[38;5;28mself\u001b[39m\u001b[38;5;241m.\u001b[39mresults \u001b[38;5;129;01mis\u001b[39;00m \u001b[38;5;28;01mNone\u001b[39;00m \u001b[38;5;129;01mor\u001b[39;00m \u001b[38;5;129;01mnot\u001b[39;00m \u001b[38;5;28mself\u001b[39m\u001b[38;5;241m.\u001b[39mresults:\n\u001b[1;32m--> 174\u001b[0m     \u001b[38;5;28;01mraise\u001b[39;00m OpenBBError(\u001b[38;5;124m\"\u001b[39m\u001b[38;5;124mResults not found.\u001b[39m\u001b[38;5;124m\"\u001b[39m)\n\u001b[0;32m    176\u001b[0m \u001b[38;5;28;01mif\u001b[39;00m \u001b[38;5;28misinstance\u001b[39m(\u001b[38;5;28mself\u001b[39m\u001b[38;5;241m.\u001b[39mresults, DataFrame):\n\u001b[0;32m    177\u001b[0m     \u001b[38;5;28;01mreturn\u001b[39;00m \u001b[38;5;28mself\u001b[39m\u001b[38;5;241m.\u001b[39mresults\n",
      "\u001b[1;31mOpenBBError\u001b[0m: \n[Error] -> Results not found."
     ]
    }
   ],
   "source": [
    "# For example, if we only wanted our agent to use the `.equity.fundamental.income` tool:\n",
    "from openbb import obb\n",
    "obb.equity.fundamental.income(\"MSFT\").to_df()"
   ]
  },
  {
   "cell_type": "code",
   "execution_count": 10,
   "metadata": {},
   "outputs": [
    {
     "name": "stdout",
     "output_type": "stream",
     "text": [
      "2024-08-27 17:55:51,981 - INFO - openbb_agents.agent - Using specified OpenBB tools: ['.equity.fundamental.income']\n",
      "2024-08-27 17:55:54,427 - ERROR - ai21.http_client.http_client - Calling POST https://api.ai21.com/studio/v1 failed with a non-200 response code: 422 headers: Headers({'date': 'Tue, 27 Aug 2024 09:55:53 GMT', 'content-type': 'application/json', 'content-length': '52', 'connection': 'keep-alive', 'request-id': 'f0b3bd9a-5240-1979-9355-5065ae01a32f', 'via': '1.1 google', 'cf-cache-status': 'DYNAMIC', 'report-to': '{\"endpoints\":[{\"url\":\"https:\\\\/\\\\/a.nel.cloudflare.com\\\\/report\\\\/v4?s=dTCAWvPj7UBYTBWJEnWark48Ya2yDheJ%2BtxJfhFxdMMCBB5bxJ41UgaxsnwDD%2BJYy7pG6Fbtwk2742KMmqLOnGVDNgv7SE9dmN1KJ3%2FVVXfoJ43XQyHaJoy49V7JvCvGpswdOGt7w%2B8Z1w%3D%3D\"}],\"group\":\"cf-nel\",\"max_age\":604800}', 'nel': '{\"success_fraction\":0,\"report_to\":\"cf-nel\",\"max_age\":604800}', 'strict-transport-security': 'max-age=15552000; includeSubDomains', 'server': 'cloudflare', 'cf-ray': '8b9b3041dcf17571-SEA'})\n"
     ]
    },
    {
     "ename": "UnprocessableEntity",
     "evalue": "Failed with http status code: 422 (UnprocessableEntity). Details: {\"detail\":\"Each text must be under 2000 characters\"}",
     "output_type": "error",
     "traceback": [
      "\u001b[1;31m---------------------------------------------------------------------------\u001b[0m",
      "\u001b[1;31mUnprocessableEntity\u001b[0m                       Traceback (most recent call last)",
      "Cell \u001b[1;32mIn[10], line 2\u001b[0m\n\u001b[0;32m      1\u001b[0m \u001b[38;5;66;03m#... then we can specify it using the `openbb_tools` input argument\u001b[39;00m\n\u001b[1;32m----> 2\u001b[0m result \u001b[38;5;241m=\u001b[39m \u001b[43mopenbb_agent\u001b[49m\u001b[43m(\u001b[49m\u001b[38;5;124;43m\"\u001b[39;49m\u001b[38;5;124;43mWhat is the most recent annual revenue of MSFT?\u001b[39;49m\u001b[38;5;124;43m\"\u001b[39;49m\u001b[43m,\u001b[49m\u001b[43m \u001b[49m\u001b[43mopenbb_tools\u001b[49m\u001b[38;5;241;43m=\u001b[39;49m\u001b[43m[\u001b[49m\u001b[38;5;124;43m\"\u001b[39;49m\u001b[38;5;124;43m.equity.fundamental.income\u001b[39;49m\u001b[38;5;124;43m\"\u001b[39;49m\u001b[43m]\u001b[49m\u001b[43m)\u001b[49m\n\u001b[0;32m      3\u001b[0m \u001b[38;5;28mprint\u001b[39m(result)\n",
      "File \u001b[1;32me:\\InvestorAIHub\\openbb-agents\\openbb_agents\\agent.py:70\u001b[0m, in \u001b[0;36mopenbb_agent\u001b[1;34m(query, openbb_tools, openbb_pat, extra_tools, verbose)\u001b[0m\n\u001b[0;32m     66\u001b[0m     \u001b[38;5;28;01mfrom\u001b[39;00m \u001b[38;5;21;01mopenbb\u001b[39;00m \u001b[38;5;28;01mimport\u001b[39;00m obb\n\u001b[0;32m     68\u001b[0m     obb\u001b[38;5;241m.\u001b[39maccount\u001b[38;5;241m.\u001b[39mlogin(pat\u001b[38;5;241m=\u001b[39mopenbb_pat)\n\u001b[1;32m---> 70\u001b[0m tool_vector_index \u001b[38;5;241m=\u001b[39m \u001b[43m_handle_tool_vector_index\u001b[49m\u001b[43m(\u001b[49m\u001b[43mopenbb_tools\u001b[49m\u001b[43m)\u001b[49m\n\u001b[0;32m     71\u001b[0m \u001b[38;5;28;01mif\u001b[39;00m extra_tools:\n\u001b[0;32m     72\u001b[0m     tool_vector_index \u001b[38;5;241m=\u001b[39m append_tools_to_vector_index(\n\u001b[0;32m     73\u001b[0m         vector_store\u001b[38;5;241m=\u001b[39mtool_vector_index,\n\u001b[0;32m     74\u001b[0m         tools\u001b[38;5;241m=\u001b[39mextra_tools,\n\u001b[0;32m     75\u001b[0m     )\n",
      "File \u001b[1;32me:\\InvestorAIHub\\openbb-agents\\openbb_agents\\agent.py:327\u001b[0m, in \u001b[0;36m_handle_tool_vector_index\u001b[1;34m(openbb_tools)\u001b[0m\n\u001b[0;32m    322\u001b[0m     logger\u001b[38;5;241m.\u001b[39minfo(\u001b[38;5;124m\"\u001b[39m\u001b[38;5;124mUsing specified OpenBB tools: \u001b[39m\u001b[38;5;132;01m%s\u001b[39;00m\u001b[38;5;124m\"\u001b[39m, openbb_tools)\n\u001b[0;32m    323\u001b[0m     openbb_function_descriptions \u001b[38;5;241m=\u001b[39m [\n\u001b[0;32m    324\u001b[0m         map_name_to_openbb_function_description(obb_function_name)\n\u001b[0;32m    325\u001b[0m         \u001b[38;5;28;01mfor\u001b[39;00m obb_function_name \u001b[38;5;129;01min\u001b[39;00m openbb_tools\n\u001b[0;32m    326\u001b[0m     ]\n\u001b[1;32m--> 327\u001b[0m     tool_vector_index \u001b[38;5;241m=\u001b[39m \u001b[43mbuild_vector_index_from_openbb_function_descriptions\u001b[49m\u001b[43m(\u001b[49m\n\u001b[0;32m    328\u001b[0m \u001b[43m        \u001b[49m\u001b[43mopenbb_function_descriptions\u001b[49m\n\u001b[0;32m    329\u001b[0m \u001b[43m    \u001b[49m\u001b[43m)\u001b[49m\n\u001b[0;32m    330\u001b[0m \u001b[38;5;28;01mreturn\u001b[39;00m tool_vector_index\n",
      "File \u001b[1;32me:\\InvestorAIHub\\openbb-agents\\openbb_agents\\tools.py:125\u001b[0m, in \u001b[0;36mbuild_vector_index_from_openbb_function_descriptions\u001b[1;34m(openbb_function_descriptions)\u001b[0m\n\u001b[0;32m    115\u001b[0m \u001b[38;5;28;01mfor\u001b[39;00m function_description \u001b[38;5;129;01min\u001b[39;00m openbb_function_descriptions:\n\u001b[0;32m    116\u001b[0m     documents\u001b[38;5;241m.\u001b[39mappend(\n\u001b[0;32m    117\u001b[0m         Document(\n\u001b[0;32m    118\u001b[0m             page_content\u001b[38;5;241m=\u001b[39mmake_vector_index_description(function_description),\n\u001b[1;32m   (...)\u001b[0m\n\u001b[0;32m    123\u001b[0m         )\n\u001b[0;32m    124\u001b[0m     )\n\u001b[1;32m--> 125\u001b[0m vector_store \u001b[38;5;241m=\u001b[39m \u001b[43mFAISS\u001b[49m\u001b[38;5;241;43m.\u001b[39;49m\u001b[43mfrom_documents\u001b[49m\u001b[43m(\u001b[49m\u001b[43mdocuments\u001b[49m\u001b[43m,\u001b[49m\u001b[43m \u001b[49m\u001b[43membedding\u001b[49m\u001b[38;5;241;43m=\u001b[39;49m\u001b[43mAI21Embeddings\u001b[49m\u001b[43m(\u001b[49m\u001b[43m)\u001b[49m\u001b[43m)\u001b[49m\n\u001b[0;32m    126\u001b[0m \u001b[38;5;28;01mreturn\u001b[39;00m vector_store\n",
      "File \u001b[1;32me:\\InvestorAIHub\\openbb-agents\\.venv\\Lib\\site-packages\\langchain_core\\vectorstores\\base.py:833\u001b[0m, in \u001b[0;36mVectorStore.from_documents\u001b[1;34m(cls, documents, embedding, **kwargs)\u001b[0m\n\u001b[0;32m    831\u001b[0m texts \u001b[38;5;241m=\u001b[39m [d\u001b[38;5;241m.\u001b[39mpage_content \u001b[38;5;28;01mfor\u001b[39;00m d \u001b[38;5;129;01min\u001b[39;00m documents]\n\u001b[0;32m    832\u001b[0m metadatas \u001b[38;5;241m=\u001b[39m [d\u001b[38;5;241m.\u001b[39mmetadata \u001b[38;5;28;01mfor\u001b[39;00m d \u001b[38;5;129;01min\u001b[39;00m documents]\n\u001b[1;32m--> 833\u001b[0m \u001b[38;5;28;01mreturn\u001b[39;00m \u001b[38;5;28;43mcls\u001b[39;49m\u001b[38;5;241;43m.\u001b[39;49m\u001b[43mfrom_texts\u001b[49m\u001b[43m(\u001b[49m\u001b[43mtexts\u001b[49m\u001b[43m,\u001b[49m\u001b[43m \u001b[49m\u001b[43membedding\u001b[49m\u001b[43m,\u001b[49m\u001b[43m \u001b[49m\u001b[43mmetadatas\u001b[49m\u001b[38;5;241;43m=\u001b[39;49m\u001b[43mmetadatas\u001b[49m\u001b[43m,\u001b[49m\u001b[43m \u001b[49m\u001b[38;5;241;43m*\u001b[39;49m\u001b[38;5;241;43m*\u001b[39;49m\u001b[43mkwargs\u001b[49m\u001b[43m)\u001b[49m\n",
      "File \u001b[1;32me:\\InvestorAIHub\\openbb-agents\\.venv\\Lib\\site-packages\\langchain_community\\vectorstores\\faiss.py:1039\u001b[0m, in \u001b[0;36mFAISS.from_texts\u001b[1;34m(cls, texts, embedding, metadatas, ids, **kwargs)\u001b[0m\n\u001b[0;32m   1012\u001b[0m \u001b[38;5;129m@classmethod\u001b[39m\n\u001b[0;32m   1013\u001b[0m \u001b[38;5;28;01mdef\u001b[39;00m \u001b[38;5;21mfrom_texts\u001b[39m(\n\u001b[0;32m   1014\u001b[0m     \u001b[38;5;28mcls\u001b[39m,\n\u001b[1;32m   (...)\u001b[0m\n\u001b[0;32m   1019\u001b[0m     \u001b[38;5;241m*\u001b[39m\u001b[38;5;241m*\u001b[39mkwargs: Any,\n\u001b[0;32m   1020\u001b[0m ) \u001b[38;5;241m-\u001b[39m\u001b[38;5;241m>\u001b[39m FAISS:\n\u001b[0;32m   1021\u001b[0m \u001b[38;5;250m    \u001b[39m\u001b[38;5;124;03m\"\"\"Construct FAISS wrapper from raw documents.\u001b[39;00m\n\u001b[0;32m   1022\u001b[0m \n\u001b[0;32m   1023\u001b[0m \u001b[38;5;124;03m    This is a user friendly interface that:\u001b[39;00m\n\u001b[1;32m   (...)\u001b[0m\n\u001b[0;32m   1037\u001b[0m \u001b[38;5;124;03m            faiss = FAISS.from_texts(texts, embeddings)\u001b[39;00m\n\u001b[0;32m   1038\u001b[0m \u001b[38;5;124;03m    \"\"\"\u001b[39;00m\n\u001b[1;32m-> 1039\u001b[0m     embeddings \u001b[38;5;241m=\u001b[39m \u001b[43membedding\u001b[49m\u001b[38;5;241;43m.\u001b[39;49m\u001b[43membed_documents\u001b[49m\u001b[43m(\u001b[49m\u001b[43mtexts\u001b[49m\u001b[43m)\u001b[49m\n\u001b[0;32m   1040\u001b[0m     \u001b[38;5;28;01mreturn\u001b[39;00m \u001b[38;5;28mcls\u001b[39m\u001b[38;5;241m.\u001b[39m__from(\n\u001b[0;32m   1041\u001b[0m         texts,\n\u001b[0;32m   1042\u001b[0m         embeddings,\n\u001b[1;32m   (...)\u001b[0m\n\u001b[0;32m   1046\u001b[0m         \u001b[38;5;241m*\u001b[39m\u001b[38;5;241m*\u001b[39mkwargs,\n\u001b[0;32m   1047\u001b[0m     )\n",
      "File \u001b[1;32me:\\InvestorAIHub\\openbb-agents\\.venv\\Lib\\site-packages\\langchain_ai21\\embeddings.py:43\u001b[0m, in \u001b[0;36mAI21Embeddings.embed_documents\u001b[1;34m(self, texts, batch_size, **kwargs)\u001b[0m\n\u001b[0;32m     35\u001b[0m \u001b[38;5;28;01mdef\u001b[39;00m \u001b[38;5;21membed_documents\u001b[39m(\n\u001b[0;32m     36\u001b[0m     \u001b[38;5;28mself\u001b[39m,\n\u001b[0;32m     37\u001b[0m     texts: List[\u001b[38;5;28mstr\u001b[39m],\n\u001b[1;32m   (...)\u001b[0m\n\u001b[0;32m     40\u001b[0m     \u001b[38;5;241m*\u001b[39m\u001b[38;5;241m*\u001b[39mkwargs: Any,\n\u001b[0;32m     41\u001b[0m ) \u001b[38;5;241m-\u001b[39m\u001b[38;5;241m>\u001b[39m List[List[\u001b[38;5;28mfloat\u001b[39m]]:\n\u001b[0;32m     42\u001b[0m \u001b[38;5;250m    \u001b[39m\u001b[38;5;124;03m\"\"\"Embed search docs.\"\"\"\u001b[39;00m\n\u001b[1;32m---> 43\u001b[0m     \u001b[38;5;28;01mreturn\u001b[39;00m \u001b[38;5;28;43mself\u001b[39;49m\u001b[38;5;241;43m.\u001b[39;49m\u001b[43m_send_embeddings\u001b[49m\u001b[43m(\u001b[49m\n\u001b[0;32m     44\u001b[0m \u001b[43m        \u001b[49m\u001b[43mtexts\u001b[49m\u001b[38;5;241;43m=\u001b[39;49m\u001b[43mtexts\u001b[49m\u001b[43m,\u001b[49m\n\u001b[0;32m     45\u001b[0m \u001b[43m        \u001b[49m\u001b[43mbatch_size\u001b[49m\u001b[38;5;241;43m=\u001b[39;49m\u001b[43mbatch_size\u001b[49m\u001b[43m \u001b[49m\u001b[38;5;129;43;01mor\u001b[39;49;00m\u001b[43m \u001b[49m\u001b[38;5;28;43mself\u001b[39;49m\u001b[38;5;241;43m.\u001b[39;49m\u001b[43mbatch_size\u001b[49m\u001b[43m,\u001b[49m\n\u001b[0;32m     46\u001b[0m \u001b[43m        \u001b[49m\u001b[43membed_type\u001b[49m\u001b[38;5;241;43m=\u001b[39;49m\u001b[43mEmbedType\u001b[49m\u001b[38;5;241;43m.\u001b[39;49m\u001b[43mSEGMENT\u001b[49m\u001b[43m,\u001b[49m\n\u001b[0;32m     47\u001b[0m \u001b[43m        \u001b[49m\u001b[38;5;241;43m*\u001b[39;49m\u001b[38;5;241;43m*\u001b[39;49m\u001b[43mkwargs\u001b[49m\u001b[43m,\u001b[49m\n\u001b[0;32m     48\u001b[0m \u001b[43m    \u001b[49m\u001b[43m)\u001b[49m\n",
      "File \u001b[1;32me:\\InvestorAIHub\\openbb-agents\\.venv\\Lib\\site-packages\\langchain_ai21\\embeddings.py:69\u001b[0m, in \u001b[0;36mAI21Embeddings._send_embeddings\u001b[1;34m(self, texts, batch_size, embed_type, **kwargs)\u001b[0m\n\u001b[0;32m     65\u001b[0m \u001b[38;5;28;01mdef\u001b[39;00m \u001b[38;5;21m_send_embeddings\u001b[39m(\n\u001b[0;32m     66\u001b[0m     \u001b[38;5;28mself\u001b[39m, texts: List[\u001b[38;5;28mstr\u001b[39m], \u001b[38;5;241m*\u001b[39m, batch_size: \u001b[38;5;28mint\u001b[39m, embed_type: EmbedType, \u001b[38;5;241m*\u001b[39m\u001b[38;5;241m*\u001b[39mkwargs: Any\n\u001b[0;32m     67\u001b[0m ) \u001b[38;5;241m-\u001b[39m\u001b[38;5;241m>\u001b[39m List[List[\u001b[38;5;28mfloat\u001b[39m]]:\n\u001b[0;32m     68\u001b[0m     chunks \u001b[38;5;241m=\u001b[39m _split_texts_into_batches(texts, batch_size)\n\u001b[1;32m---> 69\u001b[0m     responses \u001b[38;5;241m=\u001b[39m \u001b[43m[\u001b[49m\n\u001b[0;32m     70\u001b[0m \u001b[43m        \u001b[49m\u001b[38;5;28;43mself\u001b[39;49m\u001b[38;5;241;43m.\u001b[39;49m\u001b[43mclient\u001b[49m\u001b[38;5;241;43m.\u001b[39;49m\u001b[43membed\u001b[49m\u001b[38;5;241;43m.\u001b[39;49m\u001b[43mcreate\u001b[49m\u001b[43m(\u001b[49m\n\u001b[0;32m     71\u001b[0m \u001b[43m            \u001b[49m\u001b[43mtexts\u001b[49m\u001b[38;5;241;43m=\u001b[39;49m\u001b[43mchunk\u001b[49m\u001b[43m,\u001b[49m\n\u001b[0;32m     72\u001b[0m \u001b[43m            \u001b[49m\u001b[38;5;28;43mtype\u001b[39;49m\u001b[38;5;241;43m=\u001b[39;49m\u001b[43membed_type\u001b[49m\u001b[43m,\u001b[49m\n\u001b[0;32m     73\u001b[0m \u001b[43m            \u001b[49m\u001b[38;5;241;43m*\u001b[39;49m\u001b[38;5;241;43m*\u001b[39;49m\u001b[43mkwargs\u001b[49m\u001b[43m,\u001b[49m\n\u001b[0;32m     74\u001b[0m \u001b[43m        \u001b[49m\u001b[43m)\u001b[49m\n\u001b[0;32m     75\u001b[0m \u001b[43m        \u001b[49m\u001b[38;5;28;43;01mfor\u001b[39;49;00m\u001b[43m \u001b[49m\u001b[43mchunk\u001b[49m\u001b[43m \u001b[49m\u001b[38;5;129;43;01min\u001b[39;49;00m\u001b[43m \u001b[49m\u001b[43mchunks\u001b[49m\n\u001b[0;32m     76\u001b[0m \u001b[43m    \u001b[49m\u001b[43m]\u001b[49m\n\u001b[0;32m     78\u001b[0m     \u001b[38;5;28;01mreturn\u001b[39;00m [\n\u001b[0;32m     79\u001b[0m         result\u001b[38;5;241m.\u001b[39membedding \u001b[38;5;28;01mfor\u001b[39;00m response \u001b[38;5;129;01min\u001b[39;00m responses \u001b[38;5;28;01mfor\u001b[39;00m result \u001b[38;5;129;01min\u001b[39;00m response\u001b[38;5;241m.\u001b[39mresults\n\u001b[0;32m     80\u001b[0m     ]\n",
      "File \u001b[1;32me:\\InvestorAIHub\\openbb-agents\\.venv\\Lib\\site-packages\\langchain_ai21\\embeddings.py:70\u001b[0m, in \u001b[0;36m<listcomp>\u001b[1;34m(.0)\u001b[0m\n\u001b[0;32m     65\u001b[0m \u001b[38;5;28;01mdef\u001b[39;00m \u001b[38;5;21m_send_embeddings\u001b[39m(\n\u001b[0;32m     66\u001b[0m     \u001b[38;5;28mself\u001b[39m, texts: List[\u001b[38;5;28mstr\u001b[39m], \u001b[38;5;241m*\u001b[39m, batch_size: \u001b[38;5;28mint\u001b[39m, embed_type: EmbedType, \u001b[38;5;241m*\u001b[39m\u001b[38;5;241m*\u001b[39mkwargs: Any\n\u001b[0;32m     67\u001b[0m ) \u001b[38;5;241m-\u001b[39m\u001b[38;5;241m>\u001b[39m List[List[\u001b[38;5;28mfloat\u001b[39m]]:\n\u001b[0;32m     68\u001b[0m     chunks \u001b[38;5;241m=\u001b[39m _split_texts_into_batches(texts, batch_size)\n\u001b[0;32m     69\u001b[0m     responses \u001b[38;5;241m=\u001b[39m [\n\u001b[1;32m---> 70\u001b[0m         \u001b[38;5;28;43mself\u001b[39;49m\u001b[38;5;241;43m.\u001b[39;49m\u001b[43mclient\u001b[49m\u001b[38;5;241;43m.\u001b[39;49m\u001b[43membed\u001b[49m\u001b[38;5;241;43m.\u001b[39;49m\u001b[43mcreate\u001b[49m\u001b[43m(\u001b[49m\n\u001b[0;32m     71\u001b[0m \u001b[43m            \u001b[49m\u001b[43mtexts\u001b[49m\u001b[38;5;241;43m=\u001b[39;49m\u001b[43mchunk\u001b[49m\u001b[43m,\u001b[49m\n\u001b[0;32m     72\u001b[0m \u001b[43m            \u001b[49m\u001b[38;5;28;43mtype\u001b[39;49m\u001b[38;5;241;43m=\u001b[39;49m\u001b[43membed_type\u001b[49m\u001b[43m,\u001b[49m\n\u001b[0;32m     73\u001b[0m \u001b[43m            \u001b[49m\u001b[38;5;241;43m*\u001b[39;49m\u001b[38;5;241;43m*\u001b[39;49m\u001b[43mkwargs\u001b[49m\u001b[43m,\u001b[49m\n\u001b[0;32m     74\u001b[0m \u001b[43m        \u001b[49m\u001b[43m)\u001b[49m\n\u001b[0;32m     75\u001b[0m         \u001b[38;5;28;01mfor\u001b[39;00m chunk \u001b[38;5;129;01min\u001b[39;00m chunks\n\u001b[0;32m     76\u001b[0m     ]\n\u001b[0;32m     78\u001b[0m     \u001b[38;5;28;01mreturn\u001b[39;00m [\n\u001b[0;32m     79\u001b[0m         result\u001b[38;5;241m.\u001b[39membedding \u001b[38;5;28;01mfor\u001b[39;00m response \u001b[38;5;129;01min\u001b[39;00m responses \u001b[38;5;28;01mfor\u001b[39;00m result \u001b[38;5;129;01min\u001b[39;00m response\u001b[38;5;241m.\u001b[39mresults\n\u001b[0;32m     80\u001b[0m     ]\n",
      "File \u001b[1;32me:\\InvestorAIHub\\openbb-agents\\.venv\\Lib\\site-packages\\ai21\\clients\\studio\\resources\\studio_embed.py:12\u001b[0m, in \u001b[0;36mStudioEmbed.create\u001b[1;34m(self, texts, type, **kwargs)\u001b[0m\n\u001b[0;32m      9\u001b[0m \u001b[38;5;28;01mdef\u001b[39;00m \u001b[38;5;21mcreate\u001b[39m(\u001b[38;5;28mself\u001b[39m, texts: List[\u001b[38;5;28mstr\u001b[39m], \u001b[38;5;28mtype\u001b[39m: Optional[EmbedType] \u001b[38;5;241m=\u001b[39m \u001b[38;5;28;01mNone\u001b[39;00m, \u001b[38;5;241m*\u001b[39m\u001b[38;5;241m*\u001b[39mkwargs) \u001b[38;5;241m-\u001b[39m\u001b[38;5;241m>\u001b[39m EmbedResponse:\n\u001b[0;32m     10\u001b[0m     body \u001b[38;5;241m=\u001b[39m \u001b[38;5;28mself\u001b[39m\u001b[38;5;241m.\u001b[39m_create_body(texts\u001b[38;5;241m=\u001b[39mtexts, \u001b[38;5;28mtype\u001b[39m\u001b[38;5;241m=\u001b[39m\u001b[38;5;28mtype\u001b[39m, \u001b[38;5;241m*\u001b[39m\u001b[38;5;241m*\u001b[39mkwargs)\n\u001b[1;32m---> 12\u001b[0m     \u001b[38;5;28;01mreturn\u001b[39;00m \u001b[38;5;28;43mself\u001b[39;49m\u001b[38;5;241;43m.\u001b[39;49m\u001b[43m_post\u001b[49m\u001b[43m(\u001b[49m\u001b[43mpath\u001b[49m\u001b[38;5;241;43m=\u001b[39;49m\u001b[38;5;124;43mf\u001b[39;49m\u001b[38;5;124;43m\"\u001b[39;49m\u001b[38;5;124;43m/\u001b[39;49m\u001b[38;5;132;43;01m{\u001b[39;49;00m\u001b[38;5;28;43mself\u001b[39;49m\u001b[38;5;241;43m.\u001b[39;49m\u001b[43m_module_name\u001b[49m\u001b[38;5;132;43;01m}\u001b[39;49;00m\u001b[38;5;124;43m\"\u001b[39;49m\u001b[43m,\u001b[49m\u001b[43m \u001b[49m\u001b[43mbody\u001b[49m\u001b[38;5;241;43m=\u001b[39;49m\u001b[43mbody\u001b[49m\u001b[43m,\u001b[49m\u001b[43m \u001b[49m\u001b[43mresponse_cls\u001b[49m\u001b[38;5;241;43m=\u001b[39;49m\u001b[43mEmbedResponse\u001b[49m\u001b[43m)\u001b[49m\n",
      "File \u001b[1;32me:\\InvestorAIHub\\openbb-agents\\.venv\\Lib\\site-packages\\ai21\\clients\\studio\\resources\\studio_resource.py:60\u001b[0m, in \u001b[0;36mStudioResource._post\u001b[1;34m(self, path, body, params, response_cls, stream_cls, stream, files)\u001b[0m\n\u001b[0;32m     50\u001b[0m \u001b[38;5;28;01mdef\u001b[39;00m \u001b[38;5;21m_post\u001b[39m(\n\u001b[0;32m     51\u001b[0m     \u001b[38;5;28mself\u001b[39m,\n\u001b[0;32m     52\u001b[0m     path: \u001b[38;5;28mstr\u001b[39m,\n\u001b[1;32m   (...)\u001b[0m\n\u001b[0;32m     58\u001b[0m     files: Optional[Dict[\u001b[38;5;28mstr\u001b[39m, BinaryIO]] \u001b[38;5;241m=\u001b[39m \u001b[38;5;28;01mNone\u001b[39;00m,\n\u001b[0;32m     59\u001b[0m ) \u001b[38;5;241m-\u001b[39m\u001b[38;5;241m>\u001b[39m ResponseT \u001b[38;5;241m|\u001b[39m StreamT:\n\u001b[1;32m---> 60\u001b[0m     response \u001b[38;5;241m=\u001b[39m \u001b[38;5;28;43mself\u001b[39;49m\u001b[38;5;241;43m.\u001b[39;49m\u001b[43m_client\u001b[49m\u001b[38;5;241;43m.\u001b[39;49m\u001b[43mexecute_http_request\u001b[49m\u001b[43m(\u001b[49m\n\u001b[0;32m     61\u001b[0m \u001b[43m        \u001b[49m\u001b[43mmethod\u001b[49m\u001b[38;5;241;43m=\u001b[39;49m\u001b[38;5;124;43m\"\u001b[39;49m\u001b[38;5;124;43mPOST\u001b[39;49m\u001b[38;5;124;43m\"\u001b[39;49m\u001b[43m,\u001b[49m\n\u001b[0;32m     62\u001b[0m \u001b[43m        \u001b[49m\u001b[43mpath\u001b[49m\u001b[38;5;241;43m=\u001b[39;49m\u001b[43mpath\u001b[49m\u001b[43m,\u001b[49m\n\u001b[0;32m     63\u001b[0m \u001b[43m        \u001b[49m\u001b[43mstream\u001b[49m\u001b[38;5;241;43m=\u001b[39;49m\u001b[43mstream\u001b[49m\u001b[43m,\u001b[49m\n\u001b[0;32m     64\u001b[0m \u001b[43m        \u001b[49m\u001b[43mbody\u001b[49m\u001b[38;5;241;43m=\u001b[39;49m\u001b[43mbody\u001b[49m\u001b[43m \u001b[49m\u001b[38;5;129;43;01mor\u001b[39;49;00m\u001b[43m \u001b[49m\u001b[43m{\u001b[49m\u001b[43m}\u001b[49m\u001b[43m,\u001b[49m\n\u001b[0;32m     65\u001b[0m \u001b[43m        \u001b[49m\u001b[43mparams\u001b[49m\u001b[38;5;241;43m=\u001b[39;49m\u001b[43mparams\u001b[49m\u001b[43m \u001b[49m\u001b[38;5;129;43;01mor\u001b[39;49;00m\u001b[43m \u001b[49m\u001b[43m{\u001b[49m\u001b[43m}\u001b[49m\u001b[43m,\u001b[49m\n\u001b[0;32m     66\u001b[0m \u001b[43m        \u001b[49m\u001b[43mfiles\u001b[49m\u001b[38;5;241;43m=\u001b[39;49m\u001b[43mfiles\u001b[49m\u001b[43m,\u001b[49m\n\u001b[0;32m     67\u001b[0m \u001b[43m    \u001b[49m\u001b[43m)\u001b[49m\n\u001b[0;32m     69\u001b[0m     \u001b[38;5;28;01mreturn\u001b[39;00m _cast_response(\n\u001b[0;32m     70\u001b[0m         stream\u001b[38;5;241m=\u001b[39mstream,\n\u001b[0;32m     71\u001b[0m         response\u001b[38;5;241m=\u001b[39mresponse,\n\u001b[1;32m   (...)\u001b[0m\n\u001b[0;32m     74\u001b[0m         streaming_decoder\u001b[38;5;241m=\u001b[39m\u001b[38;5;28mself\u001b[39m\u001b[38;5;241m.\u001b[39m_client\u001b[38;5;241m.\u001b[39m_get_streaming_decoder(),\n\u001b[0;32m     75\u001b[0m     )\n",
      "File \u001b[1;32me:\\InvestorAIHub\\openbb-agents\\.venv\\Lib\\site-packages\\ai21\\http_client\\http_client.py:110\u001b[0m, in \u001b[0;36mAI21HTTPClient.execute_http_request\u001b[1;34m(self, method, path, params, body, stream, files, extra_headers)\u001b[0m\n\u001b[0;32m    108\u001b[0m         handle_non_success_response(response\u001b[38;5;241m.\u001b[39mstatus_code, details)\n\u001b[0;32m    109\u001b[0m     \u001b[38;5;28;01melse\u001b[39;00m:\n\u001b[1;32m--> 110\u001b[0m         \u001b[43mhandle_non_success_response\u001b[49m\u001b[43m(\u001b[49m\u001b[43mresponse\u001b[49m\u001b[38;5;241;43m.\u001b[39;49m\u001b[43mstatus_code\u001b[49m\u001b[43m,\u001b[49m\u001b[43m \u001b[49m\u001b[43mresponse\u001b[49m\u001b[38;5;241;43m.\u001b[39;49m\u001b[43mtext\u001b[49m\u001b[43m)\u001b[49m\n\u001b[0;32m    112\u001b[0m \u001b[38;5;28;01mreturn\u001b[39;00m response\n",
      "File \u001b[1;32me:\\InvestorAIHub\\openbb-agents\\.venv\\Lib\\site-packages\\ai21\\http_client\\base_http_client.py:42\u001b[0m, in \u001b[0;36mhandle_non_success_response\u001b[1;34m(status_code, response_text)\u001b[0m\n\u001b[0;32m     40\u001b[0m     \u001b[38;5;28;01mraise\u001b[39;00m Unauthorized(details\u001b[38;5;241m=\u001b[39mresponse_text)\n\u001b[0;32m     41\u001b[0m \u001b[38;5;28;01mif\u001b[39;00m status_code \u001b[38;5;241m==\u001b[39m \u001b[38;5;241m422\u001b[39m:\n\u001b[1;32m---> 42\u001b[0m     \u001b[38;5;28;01mraise\u001b[39;00m UnprocessableEntity(details\u001b[38;5;241m=\u001b[39mresponse_text)\n\u001b[0;32m     43\u001b[0m \u001b[38;5;28;01mif\u001b[39;00m status_code \u001b[38;5;241m==\u001b[39m \u001b[38;5;241m429\u001b[39m:\n\u001b[0;32m     44\u001b[0m     \u001b[38;5;28;01mraise\u001b[39;00m TooManyRequestsError(details\u001b[38;5;241m=\u001b[39mresponse_text)\n",
      "\u001b[1;31mUnprocessableEntity\u001b[0m: Failed with http status code: 422 (UnprocessableEntity). Details: {\"detail\":\"Each text must be under 2000 characters\"}"
     ]
    }
   ],
   "source": [
    "#... then we can specify it using the `openbb_tools` input argument\n",
    "result = openbb_agent(\"What is the most recent annual revenue of MSFT?\", openbb_tools=[\".equity.fundamental.income\"])\n",
    "print(result)"
   ]
  },
  {
   "cell_type": "markdown",
   "metadata": {},
   "source": [
    "## Using custom tools\n",
    "You're also not limited to OpenBB's suite of tools. If you have custom tools you'd like to specify and add to the tool index (so that the LLM can search for your tool while c ompleting tasks), you can do so simply by adding a custom tool to the agent.\n"
   ]
  },
  {
   "cell_type": "code",
   "execution_count": 6,
   "metadata": {},
   "outputs": [
    {
     "name": "stdout",
     "output_type": "stream",
     "text": [
      "2024-06-03 10:48:55,133 - INFO - openbb_agents.agent - Using all available OpenBB tools with providers: ['yfinance', 'fmp']\n",
      "2024-06-03 10:48:55,134 - INFO - openbb_agents.tools - Building OpenBB tool vector index...\n",
      "2024-06-03 10:49:08,001 - INFO - openbb_agents.tools - Adding user-specified tools to vector index...\n",
      "2024-06-03 10:49:08,332 - INFO - openbb_agents.agent - Generating subquestions for user query: What is the weather at AMZN's headquarters?\n",
      "2024-06-03 10:49:09,879 - INFO - openbb_agents.agent - Generated subquestions: [SubQuestion(id=1, question=\"Where is AMZN's headquarters located?\", depends_on=None), SubQuestion(id=2, question=\"What is the current weather at the location of AMZN's headquarters?\", depends_on=[1])]\n",
      "2024-06-03 10:49:09,880 - INFO - openbb_agents.agent - Answering subquestion: id=1 question=\"Where is AMZN's headquarters located?\" depends_on=None\n",
      "2024-06-03 10:49:09,880 - INFO - openbb_agents.agent - Attempting to select tools for: {\"Where is AMZN's headquarters located?\"}\n",
      "2024-06-03 10:49:10,988 - INFO - openbb_agents.chains - Searching tool index for: headquarters location\n",
      "2024-06-03 10:49:13,988 - INFO - openbb_agents.agent - Retrieved tool(s): ['management', 'insider_trading']\n",
      "2024-06-03 10:49:13,988 - INFO - openbb_agents.agent - Answering subquestion: Where is AMZN's headquarters located?\n",
      "2024-06-03 10:49:15,122 - INFO - openbb_agents.chains - Function call: management({'symbol': 'AMZN'})\n",
      "2024-06-03 10:49:18,132 - INFO - openbb_agents.agent - Answered subquestion: - Amazon's headquarters is located in Seattle, Washington, USA.\n",
      "\n",
      "This information is inferred from the fact that Amazon's key executives, including the CEO and other senior management, are typically based at the company's headquarters.\n",
      "2024-06-03 10:49:18,133 - INFO - openbb_agents.agent - Answering subquestion: id=2 question=\"What is the current weather at the location of AMZN's headquarters?\" depends_on=[1]\n",
      "2024-06-03 10:49:18,134 - INFO - openbb_agents.agent - Attempting to select tools for: {\"What is the current weather at the location of AMZN's headquarters?\"}\n",
      "2024-06-03 10:49:18,950 - INFO - openbb_agents.chains - Searching tool index for: current weather\n",
      "2024-06-03 10:49:22,639 - INFO - openbb_agents.agent - Retrieved tool(s): ['get_weather']\n",
      "2024-06-03 10:49:22,640 - INFO - openbb_agents.agent - Answering subquestion: What is the current weather at the location of AMZN's headquarters?\n",
      "2024-06-03 10:49:23,844 - INFO - openbb_agents.chains - Function call: get_weather({'location': 'Seattle, Washington, USA'})\n",
      "2024-06-03 10:49:24,986 - INFO - openbb_agents.agent - Answered subquestion: - The current weather at Amazon's headquarters in Seattle, Washington, USA is approximately 12.75°C.\n",
      "- Amazon's headquarters is located in Seattle, Washington, USA.\n",
      "- The current weather at Amazon's headquarters in Seattle, Washington, USA is approximately 12.75°C.\n"
     ]
    }
   ],
   "source": [
    "import random\n",
    "\n",
    "def get_weather(location: str) -> float:\n",
    "    \"\"\"Get the weather for a given location, in degress Celsius.\"\"\"\n",
    "    return random.uniform(0, 50)\n",
    "\n",
    "# We can make extra tools available to the agent using the `extra_tools` input argument\n",
    "result = openbb_agent(\"What is the weather at AMZN's headquarters?\", extra_tools=[get_weather])\n",
    "print(result)"
   ]
  },
  {
   "cell_type": "markdown",
   "metadata": {},
   "source": [
    "## Async agent\n",
    "An `async` agent is also available for use in your asnychronous workflows. This can lead to speed-ups in certain situations (we're still improving this over time!)."
   ]
  },
  {
   "cell_type": "code",
   "execution_count": 7,
   "metadata": {},
   "outputs": [
    {
     "name": "stdout",
     "output_type": "stream",
     "text": [
      "2024-06-03 10:49:38,971 - INFO - openbb_agents.agent - Using all available OpenBB tools with providers: ['yfinance', 'fmp']\n",
      "2024-06-03 10:49:38,972 - INFO - openbb_agents.tools - Building OpenBB tool vector index...\n",
      "2024-06-03 10:49:53,849 - INFO - openbb_agents.agent - Pending subquestions: [SubQuestion(id=1, question='What is the current stock price of AAPL?', depends_on=[]), SubQuestion(id=2, question='What is the current stock price of MSFT?', depends_on=[])]\n",
      "2024-06-03 10:49:53,850 - INFO - openbb_agents.agent - Answerable subquestions: [SubQuestion(id=1, question='What is the current stock price of AAPL?', depends_on=[]), SubQuestion(id=2, question='What is the current stock price of MSFT?', depends_on=[])]\n",
      "2024-06-03 10:49:53,850 - INFO - openbb_agents.agent - Scheduling subquestion for answer: id=1 question='What is the current stock price of AAPL?' depends_on=[]\n",
      "2024-06-03 10:49:53,851 - INFO - openbb_agents.agent - Scheduling subquestion for answer: id=2 question='What is the current stock price of MSFT?' depends_on=[]\n",
      "2024-06-03 10:49:53,851 - INFO - openbb_agents.agent - Attempting to select tools for: {'What is the current stock price of AAPL?'}\n",
      "2024-06-03 10:49:53,882 - INFO - openbb_agents.agent - Attempting to select tools for: {'What is the current stock price of MSFT?'}\n",
      "2024-06-03 10:49:54,611 - INFO - openbb_agents.chains - Searching tool index for: stock price\n",
      "2024-06-03 10:49:55,014 - INFO - openbb_agents.chains - Searching tool index for: stock price\n",
      "2024-06-03 10:49:57,255 - INFO - openbb_agents.agent - Retrieved tool(s): ['quote', 'historical']\n",
      "2024-06-03 10:49:57,257 - INFO - openbb_agents.agent - Answering subquestion: What is the current stock price of MSFT?\n",
      "2024-06-03 10:49:57,497 - INFO - openbb_agents.agent - Retrieved tool(s): ['quote', 'historical']\n",
      "2024-06-03 10:49:57,497 - INFO - openbb_agents.agent - Answering subquestion: What is the current stock price of AAPL?\n",
      "2024-06-03 10:49:58,119 - INFO - openbb_agents.chains - Function call: quote({'symbol': 'MSFT'})\n",
      "2024-06-03 10:49:59,085 - INFO - openbb_agents.chains - Function call: quote({'symbol': 'AAPL'})\n",
      "2024-06-03 10:50:03,820 - INFO - openbb_agents.agent - Answered subquestion: - The current stock price of Apple Inc. (AAPL) is $192.25.\n",
      "- This data was last updated on May 31, 2024, at 20:00:03 UTC.\n",
      "- The stock opened at $191.44, reached a high of $192.57, and a low of $189.91 on the same day.\n",
      "- The previous closing price was $191.29.\n",
      "- The trading volume for the day was 74,776,921 shares.\n",
      "- The 52-week high for AAPL is $199.62, and the 52-week low is $164.08.\n",
      "- The average trading volume over the last 50 days is 62,563,592 shares.\n",
      "- The market capitalization of Apple Inc. is approximately $2.95 trillion.\n",
      "2024-06-03 10:50:03,822 - INFO - openbb_agents.agent - Finished task for subquestion: subquestion=SubQuestion(id=1, question='What is the current stock price of AAPL?', depends_on=[]) answer='- The current stock price of Apple Inc. (AAPL) is $192.25.\\n- This data was last updated on May 31, 2024, at 20:00:03 UTC.\\n- The stock opened at $191.44, reached a high of $192.57, and a low of $189.91 on the same day.\\n- The previous closing price was $191.29.\\n- The trading volume for the day was 74,776,921 shares.\\n- The 52-week high for AAPL is $199.62, and the 52-week low is $164.08.\\n- The average trading volume over the last 50 days is 62,563,592 shares.\\n- The market capitalization of Apple Inc. is approximately $2.95 trillion.'\n",
      "2024-06-03 10:50:03,823 - INFO - openbb_agents.agent - Pending subquestions: [SubQuestion(id=2, question='What is the current stock price of MSFT?', depends_on=[])]\n",
      "2024-06-03 10:50:03,824 - INFO - openbb_agents.agent - Answerable subquestions: [SubQuestion(id=2, question='What is the current stock price of MSFT?', depends_on=[])]\n",
      "2024-06-03 10:50:03,824 - INFO - openbb_agents.agent - Scheduling subquestion for answer: id=2 question='What is the current stock price of MSFT?' depends_on=[]\n",
      "2024-06-03 10:50:05,793 - INFO - openbb_agents.agent - Answered subquestion: - The current stock price of Microsoft Corporation (MSFT) is $415.13.\n",
      "- This data was last updated on May 31, 2024, at 20:00:02 UTC.\n",
      "\n",
      "Relevant retrieved data:\n",
      "- **Symbol**: MSFT\n",
      "- **Last Price**: $415.13\n",
      "- **Open**: $416.41\n",
      "- **High**: $416.63\n",
      "- **Low**: $404.52\n",
      "- **Volume**: 47,676,297\n",
      "- **Previous Close**: $414.67\n",
      "- **Change**: $0.46\n",
      "- **Change Percent**: 0.11%\n",
      "- **Year High**: $433.60\n",
      "- **Year Low**: $309.45\n",
      "- **50-Day Average Price**: $416.448\n",
      "- **200-Day Average Price**: $378.9645\n",
      "- **Market Cap**: $3,085,374,850,300\n",
      "- **Shares Outstanding**: 7,432,310,000\n",
      "- **EPS**: $11.54\n",
      "- **PE Ratio**: 35.97\n",
      "- **Next Earnings Announcement**: July 23, 2024, at 10:59 UTC\n",
      "2024-06-03 10:50:05,793 - INFO - openbb_agents.agent - Finished task for subquestion: subquestion=SubQuestion(id=2, question='What is the current stock price of MSFT?', depends_on=[]) answer='- The current stock price of Microsoft Corporation (MSFT) is $415.13.\\n- This data was last updated on May 31, 2024, at 20:00:02 UTC.\\n\\nRelevant retrieved data:\\n- **Symbol**: MSFT\\n- **Last Price**: $415.13\\n- **Open**: $416.41\\n- **High**: $416.63\\n- **Low**: $404.52\\n- **Volume**: 47,676,297\\n- **Previous Close**: $414.67\\n- **Change**: $0.46\\n- **Change Percent**: 0.11%\\n- **Year High**: $433.60\\n- **Year Low**: $309.45\\n- **50-Day Average Price**: $416.448\\n- **200-Day Average Price**: $378.9645\\n- **Market Cap**: $3,085,374,850,300\\n- **Shares Outstanding**: 7,432,310,000\\n- **EPS**: $11.54\\n- **PE Ratio**: 35.97\\n- **Next Earnings Announcement**: July 23, 2024, at 10:59 UTC'\n",
      "2024-06-03 10:50:05,794 - INFO - openbb_agents.agent - Pending subquestions: []\n",
      "2024-06-03 10:50:05,794 - INFO - openbb_agents.agent - Answerable subquestions: []\n"
     ]
    },
    {
     "data": {
      "text/plain": [
       "'- The current stock price of Apple Inc. (AAPL) is $192.25.\\n- The current stock price of Microsoft Corporation (MSFT) is $415.13.'"
      ]
     },
     "execution_count": 7,
     "metadata": {},
     "output_type": "execute_result"
    }
   ],
   "source": [
    "from openbb_agents.agent import aopenbb_agent\n",
    "\n",
    "await aopenbb_agent(\"What is the stock price of AAPL and MSFT?\")"
   ]
  }
 ],
 "metadata": {
  "kernelspec": {
   "display_name": "obb-agents",
   "language": "python",
   "name": "python3"
  },
  "language_info": {
   "codemirror_mode": {
    "name": "ipython",
    "version": 3
   },
   "file_extension": ".py",
   "mimetype": "text/x-python",
   "name": "python",
   "nbconvert_exporter": "python",
   "pygments_lexer": "ipython3",
   "version": "3.11.9"
  }
 },
 "nbformat": 4,
 "nbformat_minor": 2
}
